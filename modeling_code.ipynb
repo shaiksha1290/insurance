{
 "cells": [
  {
   "cell_type": "markdown",
   "metadata": {},
   "source": [
    "## Importing required packages"
   ]
  },
  {
   "cell_type": "code",
   "execution_count": 1,
   "metadata": {
    "collapsed": true
   },
   "outputs": [],
   "source": [
    "import pandas as pd\n",
    "import numpy as np\n",
    "import datetime\n",
    "from sklearn import tree\n",
    "from sklearn.metrics import confusion_matrix,accuracy_score,roc_curve\n",
    "from sklearn.ensemble import RandomForestClassifier\n",
    "from sklearn.cross_validation import KFold,cross_val_score,train_test_split"
   ]
  },
  {
   "cell_type": "markdown",
   "metadata": {},
   "source": [
    "## Loading dataset"
   ]
  },
  {
   "cell_type": "code",
   "execution_count": 2,
   "metadata": {
    "collapsed": true
   },
   "outputs": [],
   "source": [
    "file_path = r'E:\\Second Sem\\Capstone\\New_data\\modeling_data.csv'\n",
    "final_data = pd.read_csv(file_path)"
   ]
  },
  {
   "cell_type": "markdown",
   "metadata": {},
   "source": [
    "## Data preparation"
   ]
  },
  {
   "cell_type": "code",
   "execution_count": 9,
   "metadata": {
    "collapsed": true
   },
   "outputs": [],
   "source": [
    "# considering only Quote and Bound\n",
    "final_data = final_data[final_data['MAIN_UW_STATUS_L1_CALC'].isin(['Quote','Bound'])]\n",
    "\n",
    "#changing datatype of \"Creation date\" and \"inception_date\" \n",
    "final_data['CREATION_DATE'] = pd.to_datetime(final_data['CREATION_DATE'])\n",
    "final_data['INCEPTION_DATE'] = pd.to_datetime(final_data['INCEPTION_DATE'])\n",
    "\n",
    "#Computing difference between \"INCEPTION_DATE\" and \"CREATION_DATE\"\n",
    "final_data[\"Creation_Inception_Diff\"] = (final_data['INCEPTION_DATE'] - final_data['CREATION_DATE'])\n",
    "\n",
    "#Converting the difference into days\n",
    "final_data[\"Creation_Inception_Diff\"] = final_data[\"Creation_Inception_Diff\"].apply(lambda x : x.astype('timedelta64[D]') /np.timedelta64(1, 'D'))\n",
    "\n",
    "#Replacing \",\" in \"SUM_INSURED_100\"\n",
    "final_data[\"SUM_INSURED_100\"] = final_data[\"SUM_INSURED_100\"].apply(lambda x : np.float64(str(x).replace(\",\",\"\")))"
   ]
  },
  {
   "cell_type": "markdown",
   "metadata": {},
   "source": [
    "## Deriving Year,month and quater from Creation date"
   ]
  },
  {
   "cell_type": "code",
   "execution_count": 11,
   "metadata": {},
   "outputs": [],
   "source": [
    "#Deriving Year,month,quater from creation date\n",
    "final_data['CREATION_DATE_YEAR'] = final_data['CREATION_DATE'].apply(lambda x : x.year)\n",
    "final_data['CREATION_DATE_MONTH'] = final_data['CREATION_DATE'].apply(lambda x : x.month)\n",
    "final_data['CREATION_DATE_QUATER'] = final_data['CREATION_DATE'].apply(lambda x : (((x.month-1)/3)+1)) \n",
    "\n",
    "# replacing numbers with actual alphabetical representation in quater \n",
    "final_data.replace({'CREATION_DATE_QUATER' : { 1 : 'Q1',\n",
    "                                               2 : 'Q2',\n",
    "                                               3 : 'Q3', \n",
    "                                               4 : 'Q4',\n",
    "                                             }},inplace=True)\n",
    "\n",
    "# replacing numbers with actual alphabetical representation in months\n",
    "final_data.replace({'CREATION_DATE_MONTH' : { 1 : 'Jan',\n",
    "                                             2 : 'Feb',\n",
    "                                             3 : 'Mar', \n",
    "                                             4 : 'Apr',\n",
    "                                             5 : 'May',\n",
    "                                             6 : 'Jun',\n",
    "                                             7 : 'Jul',\n",
    "                                             8 : 'Aug',\n",
    "                                             9 : 'Sep',\n",
    "                                             10 : 'Oct',\n",
    "                                             11 : 'Nov',\n",
    "                                             12 : 'Dec'}},inplace=True)\n"
   ]
  },
  {
   "cell_type": "code",
   "execution_count": 12,
   "metadata": {},
   "outputs": [
    {
     "data": {
      "text/plain": [
       "(1573, 35)"
      ]
     },
     "execution_count": 12,
     "metadata": {},
     "output_type": "execute_result"
    }
   ],
   "source": [
    "#final shape of dataframe\n",
    "final_data.shape"
   ]
  },
  {
   "cell_type": "markdown",
   "metadata": {},
   "source": [
    "## Defining column types in dataset"
   ]
  },
  {
   "cell_type": "code",
   "execution_count": 13,
   "metadata": {
    "collapsed": true
   },
   "outputs": [],
   "source": [
    "target_col = [\"MAIN_UW_STATUS_L1_CALC\"]\n",
    "\n",
    "cat_col = [\"LCR_ECONOMIC_ACTIVITY_L1\",\"LCR_ECONOMIC_ACTIVITY_L2\",\n",
    "            \"REGION_LEVEL_4_INSURED_STATE\",\"INSURED_CITY_UPPER\",\n",
    "           \"BROKER_REGION_L4_STATE\",\"BROKER_LEVEL_2_BROKER_GROUP\",\"BROKER_CITY_UPPER\",\n",
    "            \"CREATION_DATE_MONTH\",\"CREATION_DATE_QUATER\"]\n",
    "\n",
    "num_col = [\"CREATION_INCEPTION_DIFF\",\"BROKER_HIST_WEIGHT\",\"BROKER_SUCCESS\",\"INSURED_SUCCESS\",\"SUM_INSURED_100\"]"
   ]
  },
  {
   "cell_type": "code",
   "execution_count": 14,
   "metadata": {
    "collapsed": true
   },
   "outputs": [],
   "source": [
    "#Selecting only required columns\n",
    "final_data = final_data[cat_col+num_col+target_col]"
   ]
  },
  {
   "cell_type": "code",
   "execution_count": 15,
   "metadata": {
    "collapsed": true
   },
   "outputs": [],
   "source": [
    "#Creating dummy variables for all categorical variables\n",
    "final_data_cat = pd.get_dummies(final_data[cat_col])"
   ]
  },
  {
   "cell_type": "code",
   "execution_count": 17,
   "metadata": {
    "collapsed": true
   },
   "outputs": [],
   "source": [
    "#Combining dummy variables with other variables to form a final dataset\n",
    "final_result = pd.concat([final_data_cat, final_data[num_col+target_col]], axis=1)\n",
    "\n",
    "#Filling missing values with -9999\n",
    "final_result.fillna(-9999,inplace=True)"
   ]
  },
  {
   "cell_type": "code",
   "execution_count": 18,
   "metadata": {
    "collapsed": true
   },
   "outputs": [],
   "source": [
    "#defining training and target dataset\n",
    "final_result[\"Target\"] = np.where(final_result[\"MAIN_UW_STATUS_L1_CALC\"] == \"Bound\",1,0)\n",
    "\n",
    "final_result_data_old = final_result.drop(['MAIN_UW_STATUS_L1_CALC','Target'],axis=1)\n",
    "final_result_data = final_result_data_old.as_matrix()\n",
    "\n",
    "final_result_target = final_result['Target'].as_matrix()\n"
   ]
  },
  {
   "cell_type": "markdown",
   "metadata": {},
   "source": [
    "## Feature selection using Lasso"
   ]
  },
  {
   "cell_type": "code",
   "execution_count": 26,
   "metadata": {},
   "outputs": [
    {
     "name": "stdout",
     "output_type": "stream",
     "text": [
      "39 columns selected\n"
     ]
    }
   ],
   "source": [
    "#importing required package\n",
    "from sklearn.feature_selection import SelectFromModel\n",
    "from sklearn.linear_model import LogisticRegression,Lasso\n",
    "\n",
    "#initialising Lasso with alpha of 0.001 \n",
    "Lass = Lasso(alpha = 0.002)\n",
    "Lass = Lass.fit(final_result_data,final_result_target)\n",
    "\n",
    "model_selecting = SelectFromModel(Lass, prefit=True)\n",
    "\n",
    "features_selected = final_result_data_old.columns[model_selecting.get_support()]\n",
    "\n",
    "train_features_subset = model_selecting.transform(final_result_data)\n",
    "\n",
    "print str(train_features_subset.shape[1])+\" columns selected\""
   ]
  },
  {
   "cell_type": "markdown",
   "metadata": {},
   "source": [
    "## Logistic regression with selected features"
   ]
  },
  {
   "cell_type": "code",
   "execution_count": 27,
   "metadata": {},
   "outputs": [
    {
     "data": {
      "text/plain": [
       "0.74486207844669505"
      ]
     },
     "execution_count": 27,
     "metadata": {},
     "output_type": "execute_result"
    }
   ],
   "source": [
    "#initialising Logistic regression \n",
    "LR = LogisticRegression(n_jobs=-1)\n",
    "\n",
    "#Computing accuracy using 10 fold cross validation\n",
    "cross_val_score(LR,train_features_subset,final_result_target,cv=10,scoring = 'accuracy').mean()"
   ]
  },
  {
   "cell_type": "code",
   "execution_count": 29,
   "metadata": {},
   "outputs": [
    {
     "data": {
      "text/plain": [
       "0.78094966815184264"
      ]
     },
     "execution_count": 29,
     "metadata": {},
     "output_type": "execute_result"
    }
   ],
   "source": [
    "#ROC_AUC \n",
    "cross_val_score(LR,train_features_subset,final_result_target,cv=10,scoring = 'roc_auc').mean()"
   ]
  },
  {
   "cell_type": "code",
   "execution_count": 30,
   "metadata": {},
   "outputs": [
    {
     "data": {
      "text/plain": [
       "0.56477477477477478"
      ]
     },
     "execution_count": 30,
     "metadata": {},
     "output_type": "execute_result"
    }
   ],
   "source": [
    "#Recall\n",
    "cross_val_score(LR,train_features_subset,final_result_target,cv=10,scoring = 'recall').mean()"
   ]
  },
  {
   "cell_type": "markdown",
   "metadata": {},
   "source": [
    "## Logistic Model results on training and validation "
   ]
  },
  {
   "cell_type": "code",
   "execution_count": 31,
   "metadata": {
    "collapsed": true
   },
   "outputs": [],
   "source": [
    "train_data =  train_features_subset\n",
    "target_data = final_result_target"
   ]
  },
  {
   "cell_type": "code",
   "execution_count": 53,
   "metadata": {
    "collapsed": true
   },
   "outputs": [],
   "source": [
    "#Splitting dataset into 70% training and 30% validation\n",
    "X_train,X_test,y_train,y_test = train_test_split(train_data,target_data,test_size = 0.3,random_state = 1111)\n",
    "\n",
    "#Fitting trainning data \n",
    "Ddt = LR.fit(X_train,y_train)\n",
    "\n",
    "#Predicting probabilities \n",
    "pred_prob = Ddt.predict_proba(X_test)\n",
    "\n",
    "#setting the cutoff 0.25\n",
    "pred_val = np.where(pred_prob[:,1] > 0.25,1,0)#cut_off 0.25"
   ]
  },
  {
   "cell_type": "code",
   "execution_count": 54,
   "metadata": {},
   "outputs": [
    {
     "data": {
      "text/plain": [
       "array([[194,  21],\n",
       "       [166,  91]])"
      ]
     },
     "execution_count": 54,
     "metadata": {},
     "output_type": "execute_result"
    }
   ],
   "source": [
    "#confusion matrix\n",
    "confusion_matrix(y_test, pred_val,labels=[1,0])"
   ]
  },
  {
   "cell_type": "code",
   "execution_count": 55,
   "metadata": {},
   "outputs": [
    {
     "data": {
      "text/plain": [
       "0.09767441860465116"
      ]
     },
     "execution_count": 55,
     "metadata": {},
     "output_type": "execute_result"
    }
   ],
   "source": [
    "#Computing type II errors\n",
    "a=confusion_matrix(y_test, pred_val,labels=[1,0])\n",
    "\n",
    "float(a[0][1])/(a[0][0]+a[0][1]) #type_2"
   ]
  },
  {
   "cell_type": "code",
   "execution_count": 56,
   "metadata": {},
   "outputs": [
    {
     "data": {
      "text/plain": [
       "0.60381355932203384"
      ]
     },
     "execution_count": 56,
     "metadata": {},
     "output_type": "execute_result"
    }
   ],
   "source": [
    "#Computing accuracy\n",
    "accuracy_score(y_test,pred_val)"
   ]
  },
  {
   "cell_type": "markdown",
   "metadata": {},
   "source": [
    "## Decision trees"
   ]
  },
  {
   "cell_type": "code",
   "execution_count": 57,
   "metadata": {
    "collapsed": true
   },
   "outputs": [],
   "source": [
    "from sklearn.tree import DecisionTreeClassifier\n",
    "\n",
    "DT = DecisionTreeClassifier()"
   ]
  },
  {
   "cell_type": "code",
   "execution_count": 58,
   "metadata": {},
   "outputs": [
    {
     "data": {
      "text/plain": [
       "0.72712464106078556"
      ]
     },
     "execution_count": 58,
     "metadata": {},
     "output_type": "execute_result"
    }
   ],
   "source": [
    "#Computing accuracy using 10 fold cross validation\n",
    "cross_val_score(DT,final_result_data,final_result_target,cv=10,scoring = 'accuracy').mean()"
   ]
  },
  {
   "cell_type": "code",
   "execution_count": 63,
   "metadata": {},
   "outputs": [
    {
     "data": {
      "text/plain": [
       "0.71803022770051861"
      ]
     },
     "execution_count": 63,
     "metadata": {},
     "output_type": "execute_result"
    }
   ],
   "source": [
    "#ROC_AUC \n",
    "cross_val_score(DT,final_result_data,final_result_target,cv=10,scoring = 'roc_auc').mean()"
   ]
  },
  {
   "cell_type": "code",
   "execution_count": 62,
   "metadata": {},
   "outputs": [
    {
     "data": {
      "text/plain": [
       "0.71702702702702692"
      ]
     },
     "execution_count": 62,
     "metadata": {},
     "output_type": "execute_result"
    }
   ],
   "source": [
    "#Recall\n",
    "cross_val_score(DT,final_result_data,final_result_target,cv=10,scoring = 'recall').mean()"
   ]
  },
  {
   "cell_type": "markdown",
   "metadata": {},
   "source": [
    "## Decision Tree Model results on training and validation"
   ]
  },
  {
   "cell_type": "code",
   "execution_count": 61,
   "metadata": {
    "collapsed": true
   },
   "outputs": [],
   "source": [
    "train_data =  final_result_data\n",
    "target_data = final_result_target"
   ]
  },
  {
   "cell_type": "code",
   "execution_count": 179,
   "metadata": {
    "collapsed": true
   },
   "outputs": [],
   "source": [
    "#Splitting dataset into 70% training and 30% validation\n",
    "X_train,X_test,y_train,y_test = train_test_split(train_data,target_data,test_size = 0.3,random_state = 111)\n",
    "\n",
    "#Fitting trainning data \n",
    "DT_Model = DT.fit(X_train,y_train)\n",
    "\n",
    "#Predicting probabilities \n",
    "pred_prob = DT_Model.predict_proba(X_test)\n",
    "\n",
    "#setting the cutoff 0.10\n",
    "pred_val = np.where(pred_prob[:,1] > 0.10,1,0)#cut_off 0.10"
   ]
  },
  {
   "cell_type": "code",
   "execution_count": 180,
   "metadata": {},
   "outputs": [
    {
     "data": {
      "text/plain": [
       "array([[157,  73],\n",
       "       [ 82, 160]])"
      ]
     },
     "execution_count": 180,
     "metadata": {},
     "output_type": "execute_result"
    }
   ],
   "source": [
    "#confusion matrix\n",
    "confusion_matrix(y_test, pred_val,labels=[1,0])"
   ]
  },
  {
   "cell_type": "code",
   "execution_count": 181,
   "metadata": {},
   "outputs": [
    {
     "data": {
      "text/plain": [
       "0.3173913043478261"
      ]
     },
     "execution_count": 181,
     "metadata": {},
     "output_type": "execute_result"
    }
   ],
   "source": [
    "#Computing type II errors\n",
    "a=confusion_matrix(y_test, pred_val,labels=[1,0])\n",
    "\n",
    "float(a[0][1])/(a[0][0]+a[0][1]) #type_2"
   ]
  },
  {
   "cell_type": "code",
   "execution_count": 182,
   "metadata": {},
   "outputs": [
    {
     "data": {
      "text/plain": [
       "0.67161016949152541"
      ]
     },
     "execution_count": 182,
     "metadata": {},
     "output_type": "execute_result"
    }
   ],
   "source": [
    "#Computing accuracy\n",
    "accuracy_score(y_test,pred_val)"
   ]
  },
  {
   "cell_type": "markdown",
   "metadata": {},
   "source": [
    "## Random forest"
   ]
  },
  {
   "cell_type": "code",
   "execution_count": 84,
   "metadata": {
    "collapsed": true
   },
   "outputs": [],
   "source": [
    "from sklearn.ensemble import RandomForestClassifier\n",
    "\n",
    "RF = RandomForestClassifier(n_estimators = 500,n_jobs=-1)"
   ]
  },
  {
   "cell_type": "code",
   "execution_count": 85,
   "metadata": {},
   "outputs": [
    {
     "data": {
      "text/plain": [
       "0.77852752745923748"
      ]
     },
     "execution_count": 85,
     "metadata": {},
     "output_type": "execute_result"
    }
   ],
   "source": [
    "#Computing accuracy using 10 fold cross validation\n",
    "cross_val_score(RF,final_result_data,final_result_target,cv=10,scoring = 'accuracy').mean()"
   ]
  },
  {
   "cell_type": "code",
   "execution_count": 86,
   "metadata": {},
   "outputs": [
    {
     "data": {
      "text/plain": [
       "0.8477430844008863"
      ]
     },
     "execution_count": 86,
     "metadata": {},
     "output_type": "execute_result"
    }
   ],
   "source": [
    "#ROC_AUC \n",
    "cross_val_score(RF,final_result_data,final_result_target,cv=10,scoring = 'roc_auc').mean()"
   ]
  },
  {
   "cell_type": "code",
   "execution_count": 87,
   "metadata": {},
   "outputs": [
    {
     "data": {
      "text/plain": [
       "0.66886486486486485"
      ]
     },
     "execution_count": 87,
     "metadata": {},
     "output_type": "execute_result"
    }
   ],
   "source": [
    "#Recall\n",
    "cross_val_score(RF,final_result_data,final_result_target,cv=10,scoring = 'recall').mean()"
   ]
  },
  {
   "cell_type": "markdown",
   "metadata": {},
   "source": [
    "## Random Forest on training and validation "
   ]
  },
  {
   "cell_type": "code",
   "execution_count": 183,
   "metadata": {
    "collapsed": true
   },
   "outputs": [],
   "source": [
    "#Fitting trainning data \n",
    "RF_Model = RF.fit(X_train,y_train)\n",
    "\n",
    "#Predicting probabilities \n",
    "pred_prob = RF_Model.predict_proba(X_test)\n",
    "\n",
    "#setting the cutoff 0.10\n",
    "pred_val = np.where(pred_prob[:,1] > 0.10,1,0)#cut_off 0.10"
   ]
  },
  {
   "cell_type": "code",
   "execution_count": 184,
   "metadata": {},
   "outputs": [
    {
     "data": {
      "text/plain": [
       "array([[221,   9],\n",
       "       [208,  34]])"
      ]
     },
     "execution_count": 184,
     "metadata": {},
     "output_type": "execute_result"
    }
   ],
   "source": [
    "#confusion matrix\n",
    "confusion_matrix(y_test, pred_val,labels=[1,0])"
   ]
  },
  {
   "cell_type": "code",
   "execution_count": 185,
   "metadata": {},
   "outputs": [
    {
     "data": {
      "text/plain": [
       "0.0391304347826087"
      ]
     },
     "execution_count": 185,
     "metadata": {},
     "output_type": "execute_result"
    }
   ],
   "source": [
    "#Computing type II errors\n",
    "a=confusion_matrix(y_test, pred_val,labels=[1,0])\n",
    "\n",
    "float(a[0][1])/(a[0][0]+a[0][1]) #type_2"
   ]
  },
  {
   "cell_type": "code",
   "execution_count": 186,
   "metadata": {},
   "outputs": [
    {
     "data": {
      "text/plain": [
       "0.5402542372881356"
      ]
     },
     "execution_count": 186,
     "metadata": {},
     "output_type": "execute_result"
    }
   ],
   "source": [
    "#Computing accuracy\n",
    "accuracy_score(y_test,pred_val)"
   ]
  },
  {
   "cell_type": "markdown",
   "metadata": {},
   "source": [
    "## Gradient Boosting Machines"
   ]
  },
  {
   "cell_type": "code",
   "execution_count": 92,
   "metadata": {
    "collapsed": true
   },
   "outputs": [],
   "source": [
    "from sklearn.ensemble import GradientBoostingClassifier\n",
    "\n",
    "#Setting parameters as \n",
    "#   {learning_rate = 0.1,n_estimators=170,max_depth=21,\n",
    "#    min_samples_split=100,subsample=0.8,max_features='sqrt' }\n",
    "# after careful tunning  \n",
    "\n",
    "gbm = GradientBoostingClassifier(learning_rate=0.1, n_estimators=170,max_depth=21, min_samples_split=100,\n",
    "                                         subsample=0.8, random_state=10, max_features='sqrt')\n"
   ]
  },
  {
   "cell_type": "code",
   "execution_count": 93,
   "metadata": {},
   "outputs": [
    {
     "data": {
      "text/plain": [
       "0.75311799047790351"
      ]
     },
     "execution_count": 93,
     "metadata": {},
     "output_type": "execute_result"
    }
   ],
   "source": [
    "#Computing accuracy using 10 fold cross validation\n",
    "cross_val_score(gbm,final_result_data,final_result_target,cv=10,scoring = 'accuracy').mean()"
   ]
  },
  {
   "cell_type": "code",
   "execution_count": 94,
   "metadata": {},
   "outputs": [
    {
     "data": {
      "text/plain": [
       "0.85150413387233836"
      ]
     },
     "execution_count": 94,
     "metadata": {},
     "output_type": "execute_result"
    }
   ],
   "source": [
    "#ROC_AUC \n",
    "cross_val_score(gbm,final_result_data,final_result_target,cv=10,scoring = 'roc_auc').mean()"
   ]
  },
  {
   "cell_type": "code",
   "execution_count": 95,
   "metadata": {},
   "outputs": [
    {
     "data": {
      "text/plain": [
       "0.70095495495495486"
      ]
     },
     "execution_count": 95,
     "metadata": {},
     "output_type": "execute_result"
    }
   ],
   "source": [
    "#Recall\n",
    "cross_val_score(gbm,final_result_data,final_result_target,cv=10,scoring = 'recall').mean()"
   ]
  },
  {
   "cell_type": "markdown",
   "metadata": {},
   "source": [
    "## GBM on training and validation "
   ]
  },
  {
   "cell_type": "code",
   "execution_count": 171,
   "metadata": {
    "collapsed": true
   },
   "outputs": [],
   "source": [
    "#Splitting dataset into 70% training and 30% validation\n",
    "X_train,X_test,y_train,y_test = train_test_split(train_data,target_data,test_size = 0.3,random_state = 111)\n",
    "\n",
    "#Fitting trainning data \n",
    "GBM_Model = gbm.fit(X_train,y_train)\n",
    "\n",
    "#Predicting probabilities \n",
    "pred_prob = GBM_Model.predict_proba(X_test)\n",
    "\n",
    "#setting the cutoff 0.10\n",
    "pred_val = np.where(pred_prob[:,1] > 0.10,1,0)#cut_off 0.10"
   ]
  },
  {
   "cell_type": "code",
   "execution_count": 172,
   "metadata": {},
   "outputs": [
    {
     "data": {
      "text/plain": [
       "array([[215,  15],\n",
       "       [183,  59]])"
      ]
     },
     "execution_count": 172,
     "metadata": {},
     "output_type": "execute_result"
    }
   ],
   "source": [
    "#confusion matrix\n",
    "confusion_matrix(y_test, pred_val,labels=[1,0])"
   ]
  },
  {
   "cell_type": "code",
   "execution_count": 194,
   "metadata": {},
   "outputs": [
    {
     "data": {
      "text/plain": [
       "0.040730434782608696"
      ]
     },
     "execution_count": 194,
     "metadata": {},
     "output_type": "execute_result"
    }
   ],
   "source": [
    "#Computing type II errors\n",
    "a=confusion_matrix(y_test, pred_val,labels=[1,0])\n",
    "\n",
    "float(a[0][1])/(a[0][0]+a[0][1])#type_2"
   ]
  },
  {
   "cell_type": "code",
   "execution_count": 195,
   "metadata": {},
   "outputs": [
    {
     "data": {
      "text/plain": [
       "0.64025423728813557"
      ]
     },
     "execution_count": 195,
     "metadata": {},
     "output_type": "execute_result"
    }
   ],
   "source": [
    "#Computing accuracy\n",
    "accuracy_score(y_test,pred_val)"
   ]
  },
  {
   "cell_type": "code",
   "execution_count": null,
   "metadata": {
    "collapsed": true
   },
   "outputs": [],
   "source": []
  }
 ],
 "metadata": {
  "kernelspec": {
   "display_name": "Python 3",
   "language": "python",
   "name": "python3"
  },
  "language_info": {
   "codemirror_mode": {
    "name": "ipython",
    "version": 3
   },
   "file_extension": ".py",
   "mimetype": "text/x-python",
   "name": "python",
   "nbconvert_exporter": "python",
   "pygments_lexer": "ipython3",
   "version": "3.6.1"
  }
 },
 "nbformat": 4,
 "nbformat_minor": 1
}
